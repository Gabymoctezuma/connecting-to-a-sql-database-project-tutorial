{
 "cells": [
  {
   "cell_type": "markdown",
   "id": "dca3fcb2",
   "metadata": {},
   "source": [
    "# Conexion base de datos SQl"
   ]
  },
  {
   "cell_type": "code",
   "execution_count": 37,
   "id": "2fb858a6",
   "metadata": {},
   "outputs": [
    {
     "name": "stdout",
     "output_type": "stream",
     "text": [
      "Tablas creadas \n"
     ]
    }
   ],
   "source": [
    "from sqlalchemy import create_engine, text\n",
    "from dotenv import load_dotenv\n",
    "import os\n",
    "import pandas as pd\n",
    "\n",
    "# Cargar variables de entorno\n",
    "load_dotenv()\n",
    "\n",
    "# Conectarse a la base de datos\n",
    "DB_URL = os.getenv(\"DB_URL\")\n",
    "engine = create_engine(DB_URL)\n",
    "\n",
    "\n",
    "# Crear tablas\n",
    "with engine.connect() as connection:\n",
    "    connection.execute(text(\"\"\"\n",
    "        CREATE TABLE IF NOT EXISTS publishers (\n",
    "            publisher_id INT NOT NULL,\n",
    "            name VARCHAR(255) NOT NULL,\n",
    "            PRIMARY KEY(publisher_id)\n",
    "        );\n",
    "\n",
    "        CREATE TABLE IF NOT EXISTS authors(\n",
    "            author_id INT NOT NULL,\n",
    "            first_name VARCHAR(100) NOT NULL,\n",
    "            middle_name VARCHAR(50) NULL,\n",
    "            last_name VARCHAR(100) NULL,\n",
    "            PRIMARY KEY(author_id)\n",
    "        );\n",
    "\n",
    "        CREATE TABLE IF NOT EXISTS books(\n",
    "            book_id INT NOT NULL,\n",
    "            title VARCHAR(255) NOT NULL,\n",
    "            total_pages INT NULL,\n",
    "            rating DECIMAL(4, 2) NULL,\n",
    "            isbn VARCHAR(13) NULL,\n",
    "            published_date DATE,\n",
    "            publisher_id INT NULL,\n",
    "            PRIMARY KEY(book_id),\n",
    "            CONSTRAINT fk_publisher FOREIGN KEY(publisher_id) REFERENCES publishers(publisher_id)\n",
    "        );\n",
    "\n",
    "        CREATE TABLE IF NOT EXISTS book_authors (\n",
    "            book_id INT NOT NULL,\n",
    "            author_id INT NOT NULL,\n",
    "            PRIMARY KEY(book_id, author_id),\n",
    "            CONSTRAINT fk_book FOREIGN KEY(book_id) REFERENCES books(book_id) ON DELETE CASCADE,\n",
    "            CONSTRAINT fk_author FOREIGN KEY(author_id) REFERENCES authors(author_id) ON DELETE CASCADE\n",
    "        );\n",
    "    \"\"\"))\n",
    "    print(\"Tablas creadas \")\n"
   ]
  },
  {
   "cell_type": "code",
   "execution_count": 40,
   "id": "d267a150",
   "metadata": {},
   "outputs": [],
   "source": [
    "statements = \"\"\"\n",
    "INSERT INTO publishers(publisher_id, name) VALUES (1, 'O Reilly Media');\n",
    "INSERT INTO publishers(publisher_id, name) VALUES (2, 'A Book Apart');\n",
    "INSERT INTO publishers(publisher_id, name) VALUES (3, 'A K PETERS');\n",
    "INSERT INTO publishers(publisher_id, name) VALUES (4, 'Academic Press');\n",
    "INSERT INTO publishers(publisher_id, name) VALUES (5, 'Addison Wesley');\n",
    "INSERT INTO publishers(publisher_id, name) VALUES (6, 'Albert&Sweigart');\n",
    "INSERT INTO publishers(publisher_id, name) VALUES (7, 'Alfred A. Knopf');\n",
    "\n",
    "INSERT INTO authors (author_id, first_name, middle_name, last_name) VALUES (1, 'Merritt', NULL, 'Eric');\n",
    "INSERT INTO authors (author_id, first_name, middle_name, last_name) VALUES (2, 'Linda', NULL, 'Mui');\n",
    "INSERT INTO authors (author_id, first_name, middle_name, last_name) VALUES (3, 'Alecos', NULL, 'Papadatos');\n",
    "INSERT INTO authors (author_id, first_name, middle_name, last_name) VALUES (4, 'Anthony', NULL, 'Molinaro');\n",
    "INSERT INTO authors (author_id, first_name, middle_name, last_name) VALUES (5, 'David', NULL, 'Cronin');\n",
    "INSERT INTO authors (author_id, first_name, middle_name, last_name) VALUES (6, 'Richard', NULL, 'Blum');\n",
    "INSERT INTO authors (author_id, first_name, middle_name, last_name) VALUES (7, 'Yuval', 'Noah', 'Harari');\n",
    "INSERT INTO authors (author_id, first_name, middle_name, last_name) VALUES (8, 'Paul', NULL, 'Albitz');\n",
    "\n",
    "INSERT INTO books (book_id, title, total_pages, rating, isbn, published_date, publisher_id) VALUES (1, 'Lean Software Development: An Agile Toolkit', 240, 4.17, '9780320000000', '2003-05-18', 5);\n",
    "INSERT INTO books (book_id, title, total_pages, rating, isbn, published_date, publisher_id) VALUES (2, 'Facing the Intelligence')\"\"\"\n"
   ]
  },
  {
   "cell_type": "code",
   "execution_count": 41,
   "id": "b07893c6",
   "metadata": {},
   "outputs": [
    {
     "name": "stdout",
     "output_type": "stream",
     "text": [
      "Tablas eliminadas \n"
     ]
    }
   ],
   "source": [
    "# Eliminar tablas si existen (en orden adecuado por dependencias)\n",
    "with engine.connect() as connection:\n",
    "    connection.execute(text(\"DROP TABLE IF EXISTS book_authors\"))\n",
    "    connection.execute(text(\"DROP TABLE IF EXISTS books\"))\n",
    "    connection.execute(text(\"DROP TABLE IF EXISTS authors\"))\n",
    "    connection.execute(text(\"DROP TABLE IF EXISTS publishers\"))\n",
    "    print(\"Tablas eliminadas \")\n"
   ]
  }
 ],
 "metadata": {
  "kernelspec": {
   "display_name": "Python 3",
   "language": "python",
   "name": "python3"
  },
  "language_info": {
   "codemirror_mode": {
    "name": "ipython",
    "version": 3
   },
   "file_extension": ".py",
   "mimetype": "text/x-python",
   "name": "python",
   "nbconvert_exporter": "python",
   "pygments_lexer": "ipython3",
   "version": "3.12.9"
  }
 },
 "nbformat": 4,
 "nbformat_minor": 5
}
